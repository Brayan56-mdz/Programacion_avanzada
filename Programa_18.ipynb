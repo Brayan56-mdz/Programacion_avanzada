{
  "nbformat": 4,
  "nbformat_minor": 0,
  "metadata": {
    "colab": {
      "name": "Programa 18.ipynb",
      "provenance": [],
      "authorship_tag": "ABX9TyNTw1Ck6L/hxc1qeAr/+1wS",
      "include_colab_link": true
    },
    "kernelspec": {
      "name": "python3",
      "display_name": "Python 3"
    }
  },
  "cells": [
    {
      "cell_type": "markdown",
      "metadata": {
        "id": "view-in-github",
        "colab_type": "text"
      },
      "source": [
        "<a href=\"https://colab.research.google.com/github/Brayan56-mdz/Programacion_avanzada/blob/main/Programa_18.ipynb\" target=\"_parent\"><img src=\"https://colab.research.google.com/assets/colab-badge.svg\" alt=\"Open In Colab\"/></a>"
      ]
    },
    {
      "cell_type": "code",
      "metadata": {
        "id": "5CIk7Z4rj8cw"
      },
      "source": [
        "#Programa 18 ingresar un número entero positivo en un intervalo de 1 a 3999, muestre su representación en números romanos\n",
        "while True:\n",
        "    try:\n",
        "        num = int(input('Ingrese un número entero positivo: '))\n",
        "        if num >= 0:\n",
        "            break\n",
        "        else: \n",
        "            print('Debe ingresar un entero positivo, número no válido.')\n",
        "    except ValueError:\n",
        "        print('Debe ingresar un entero positivo.')\n",
        "\n",
        "class py_solution:\n",
        "    def int_to_Roman(self, num):\n",
        "        val = [\n",
        "            1000, 900, 500, 400,\n",
        "            100, 90, 50, 40,\n",
        "            10, 9, 5, 4,\n",
        "            1\n",
        "            ]\n",
        "        syb = [\n",
        "            \"M\", \"CM\", \"D\", \"CD\",\n",
        "            \"C\", \"XC\", \"L\", \"XL\",\n",
        "            \"X\", \"IX\", \"V\", \"IV\",\n",
        "            \"I\"\n",
        "            ]\n",
        "        roman_num = ''\n",
        "        i = 0\n",
        "        while  num > 0:\n",
        "            for _ in range(num // val[i]):\n",
        "                roman_num += syb[i]\n",
        "                num -= val[i]\n",
        "            i += 1\n",
        "        return roman_num\n",
        "\n",
        "\n",
        "print(\"Tu numero \",num,\"en romano es: \",py_solution().int_to_Roman(num))\n"
      ],
      "execution_count": null,
      "outputs": []
    }
  ]
}