{
  "nbformat": 4,
  "nbformat_minor": 0,
  "metadata": {
    "colab": {
      "name": "Programa 4.ipynb",
      "provenance": [],
      "authorship_tag": "ABX9TyM/2GvEdpSh3cmkdbn9pl6A",
      "include_colab_link": true
    },
    "kernelspec": {
      "name": "python3",
      "display_name": "Python 3"
    }
  },
  "cells": [
    {
      "cell_type": "markdown",
      "metadata": {
        "id": "view-in-github",
        "colab_type": "text"
      },
      "source": [
        "<a href=\"https://colab.research.google.com/github/Brayan56-mdz/Programacion_avanzada/blob/main/Programa_4.ipynb\" target=\"_parent\"><img src=\"https://colab.research.google.com/assets/colab-badge.svg\" alt=\"Open In Colab\"/></a>"
      ]
    },
    {
      "cell_type": "code",
      "metadata": {
        "id": "xITyYnncEXRX"
      },
      "source": [
        "def menu():\n",
        "     #mostrar el menu\n",
        "     print(\"MENU\")\n",
        "     print(\"1.-Piramide\")\n",
        "     print(\"2.-Diamante\")\n",
        "     #ingresa su opcion\n",
        "     seleccion=int(input(\"ingrese su opcion: \"))   \n",
        "     \n",
        "     if seleccion == 1:\n",
        "         print(\"Piramide\")\n",
        "         piramide()\n",
        "\n",
        " \n",
        "menu()\n",
        "def piramide():\n",
        " num=int(input(\"Ingresa el numero de filas: \"))\n",
        " for i in range(1,num+1):\n",
        "       print(\"*\"*(i) )\n",
        "\n",
        "\n"
      ],
      "execution_count": null,
      "outputs": []
    }
  ]
}