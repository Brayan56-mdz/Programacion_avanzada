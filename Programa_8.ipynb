{
  "nbformat": 4,
  "nbformat_minor": 0,
  "metadata": {
    "colab": {
      "name": "Programa 8.ipynb",
      "provenance": [],
      "authorship_tag": "ABX9TyPWynOF2Nb+hEEiaTr0Rz3q",
      "include_colab_link": true
    },
    "kernelspec": {
      "name": "python3",
      "display_name": "Python 3"
    }
  },
  "cells": [
    {
      "cell_type": "markdown",
      "metadata": {
        "id": "view-in-github",
        "colab_type": "text"
      },
      "source": [
        "<a href=\"https://colab.research.google.com/github/Brayan56-mdz/Programacion_avanzada/blob/main/Programa_8.ipynb\" target=\"_parent\"><img src=\"https://colab.research.google.com/assets/colab-badge.svg\" alt=\"Open In Colab\"/></a>"
      ]
    },
    {
      "cell_type": "code",
      "metadata": {
        "id": "x_3aGeg1sdPP"
      },
      "source": [
        "#Programa 8 Invertir un número entero positivo ingresado por el usuario\n",
        "while True:\n",
        "    try:\n",
        "        num = int(input('Ingrese un número entero positivo: '))\n",
        "        if num >= 0:\n",
        "            break\n",
        "        else: \n",
        "            print('Debe ingresar un entero positivo, número no válido.')\n",
        "    except ValueError:\n",
        "        print('Debe ingresar un entero positivo.')\n",
        "\n",
        "    num2= input()\n",
        "    num= int(num2)\n",
        "numi=int(str(num)[::-1]) #lo convierte en tipo cadena y la invierte de lugar\n",
        "print(\"El inverso es: \",numi)"
      ],
      "execution_count": null,
      "outputs": []
    }
  ]
}