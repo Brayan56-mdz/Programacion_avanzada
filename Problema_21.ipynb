{
  "nbformat": 4,
  "nbformat_minor": 0,
  "metadata": {
    "colab": {
      "name": "Problema 21.ipynb",
      "provenance": [],
      "authorship_tag": "ABX9TyMwqE/+wapY6m6fQkiuX5/L",
      "include_colab_link": true
    },
    "kernelspec": {
      "name": "python3",
      "display_name": "Python 3"
    }
  },
  "cells": [
    {
      "cell_type": "markdown",
      "metadata": {
        "id": "view-in-github",
        "colab_type": "text"
      },
      "source": [
        "<a href=\"https://colab.research.google.com/github/Brayan56-mdz/Programacion_avanzada/blob/main/Problema_21.ipynb\" target=\"_parent\"><img src=\"https://colab.research.google.com/assets/colab-badge.svg\" alt=\"Open In Colab\"/></a>"
      ]
    },
    {
      "cell_type": "code",
      "metadata": {
        "id": "aXJC2x01munG"
      },
      "source": [
        "#Problema 21 \n",
        "\"\"\"\n",
        "ingresar una frase solo texto y espacios de no más de 100 caracteres\n",
        "y que imprima la frase en cada línea eliminando los espacios\n",
        "de la siguiente forma:\n",
        "La frase que se ingreso tiene menos de cien caracteres\n",
        "La frase que se ingreso tiene menos de cien\n",
        "La frase que se ingreso tiene menos de\n",
        "La frase que se ingreso tiene menos\n",
        "La frase que se ingreso tiene\n",
        "La frase que se ingreso\n",
        "La frase que se\n",
        "La frase que\n",
        "La frase\n",
        "La\n",
        "\"\"\"\n",
        "while True:\n",
        "    try:\n",
        "        a=str(input(\"Ingresa una frase(usa espacios):  \"))\n",
        "        l=len(a)\n",
        "        break\n",
        "    except:\n",
        "        print(\"Intente de nuevo\")\n",
        "    if l<100:\n",
        "        break\n",
        "    else:\n",
        "        print(\"Máximo 100 carácteres\\n Intente de nuevo\")\n",
        "\n",
        "for i in range(0,l,1):\n",
        "    print(a[i], end='')  \n",
        "print(\"\\n\")\n",
        "for i in range(l-1,0,-1):           #el tamaño es una unidad mas que la posicion\n",
        "    if str.isspace(a[i])==True:\n",
        "        for k in range(0,i,1):\n",
        "            print(a[k], end='')\n",
        "        \n",
        "        print(\"\\n\")"
      ],
      "execution_count": null,
      "outputs": []
    }
  ]
}