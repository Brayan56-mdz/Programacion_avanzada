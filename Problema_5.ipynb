{
  "nbformat": 4,
  "nbformat_minor": 0,
  "metadata": {
    "colab": {
      "name": "Problema 5.ipynb",
      "provenance": [],
      "toc_visible": true,
      "authorship_tag": "ABX9TyNICtSVHshe/d2zhXpIVzoV",
      "include_colab_link": true
    },
    "kernelspec": {
      "name": "python3",
      "display_name": "Python 3"
    }
  },
  "cells": [
    {
      "cell_type": "markdown",
      "metadata": {
        "id": "view-in-github",
        "colab_type": "text"
      },
      "source": [
        "<a href=\"https://colab.research.google.com/github/Brayan56-mdz/Programacion_avanzada/blob/main/Problema_5.ipynb\" target=\"_parent\"><img src=\"https://colab.research.google.com/assets/colab-badge.svg\" alt=\"Open In Colab\"/></a>"
      ]
    },
    {
      "cell_type": "code",
      "metadata": {
        "id": "9uka9GsMu_lU"
      },
      "source": [
        "#Programa 5 generar un triángulo de Pascal\n",
        "\n",
        "\"\"\"\n",
        "Formula:\n",
        "    N                N!\n",
        "    --    =   -----------------\n",
        "    K           K! * (N - K)!\n",
        "    N: Todos los números enteros positivos (0, 1, 2, 3, 4, 5, ..., infinito)\n",
        "    K: Todos los enteros positivos hasta N (0, 1, 2, 3, 4, ..., N)\n",
        "    0! = 1\n",
        "\"\"\"\n",
        "def factorial(n):\n",
        "    if n == 0:\n",
        "        return 1\n",
        "    else:\n",
        "        resultado = 1\n",
        "        for i in range(1, n+1):\n",
        "            resultado *= i\n",
        "    return resultado\n",
        "\n",
        "def pascal(n):\n",
        "    pisos = list()\n",
        "    for i in range(n):\n",
        "        piso = list()\n",
        "        for k in range(i+1):\n",
        "            numerador = factorial(i)\n",
        "            denominador = (factorial(k) * factorial(i-k))\n",
        "            numero = numerador / denominador\n",
        "            piso.append(int(numero))\n",
        "        pisos.append(piso)\n",
        "    return pisos\n",
        "\n",
        "try:\n",
        "    n = int(input(\"Ingrese la cantidad de filas que desea: \"))\n",
        "    triangulo = pascal(n+1)\n",
        "\n",
        "    for piso in triangulo:\n",
        "        for elemento in piso:\n",
        "            print(elemento, end=\"  \")\n",
        "        print(end=\"\\n\")\n",
        "except ValueError:\n",
        "    print(\"Ingrese un valor númerico\")\n",
        "finally:\n",
        "    print(\"\\nFin del programa\")\n"
      ],
      "execution_count": null,
      "outputs": []
    }
  ]
}