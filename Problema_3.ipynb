{
  "nbformat": 4,
  "nbformat_minor": 0,
  "metadata": {
    "colab": {
      "name": "Problema 3.ipynb",
      "provenance": [],
      "authorship_tag": "ABX9TyNog+Jo4t6ULtb46wXsC64i",
      "include_colab_link": true
    },
    "kernelspec": {
      "name": "python3",
      "display_name": "Python 3"
    }
  },
  "cells": [
    {
      "cell_type": "markdown",
      "metadata": {
        "id": "view-in-github",
        "colab_type": "text"
      },
      "source": [
        "<a href=\"https://colab.research.google.com/github/Brayan56-mdz/Programacion_avanzada/blob/main/Problema_3.ipynb\" target=\"_parent\"><img src=\"https://colab.research.google.com/assets/colab-badge.svg\" alt=\"Open In Colab\"/></a>"
      ]
    },
    {
      "cell_type": "code",
      "metadata": {
        "id": "CJN7cSO-n5jL"
      },
      "source": [
        "#Problema 3 un año es bisiesto o no \n",
        "while True:\n",
        "    try:\n",
        "        año = int(input('Ingrese un año: '))\n",
        "        if año >= 0:\n",
        "            break\n",
        "        else: \n",
        "            print('Debe ingresar un numero entero positivo, número no válido.')\n",
        "    except ValueError:\n",
        "        print('Debe ingresar un entero positivo.')\n",
        "\n",
        "if año % 4 == 0:\n",
        "    if año % 100 == 0:\n",
        "        if año % 400 == 0:\n",
        "            print('El año es bisiesto')\n",
        "        else:\n",
        "            print('El año no es bisiesto')\n",
        "    else:\n",
        "        print('El año es bisiesto.')\n",
        "else:\n",
        "    print('El año no es bisiesto.')"
      ],
      "execution_count": null,
      "outputs": []
    }
  ]
}