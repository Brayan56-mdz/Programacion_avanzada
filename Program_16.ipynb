{
  "nbformat": 4,
  "nbformat_minor": 0,
  "metadata": {
    "colab": {
      "name": "Program 16.ipynb",
      "provenance": [],
      "authorship_tag": "ABX9TyMhuPLRMZy9MJZrdKEDvmei",
      "include_colab_link": true
    },
    "kernelspec": {
      "name": "python3",
      "display_name": "Python 3"
    }
  },
  "cells": [
    {
      "cell_type": "markdown",
      "metadata": {
        "id": "view-in-github",
        "colab_type": "text"
      },
      "source": [
        "<a href=\"https://colab.research.google.com/github/Brayan56-mdz/Programacion_avanzada/blob/main/Program_16.ipynb\" target=\"_parent\"><img src=\"https://colab.research.google.com/assets/colab-badge.svg\" alt=\"Open In Colab\"/></a>"
      ]
    },
    {
      "cell_type": "code",
      "metadata": {
        "id": "j_k9ewK-WUw4"
      },
      "source": [
        "#Programa 16 Obtener la lista de números narcisistas que existan en un intervalo dado por el usuario\n",
        "while True:\n",
        "    try:\n",
        "        n = int(input('Ingresa un numero(numero limite para numeros narcisistas): '))\n",
        "        if n >= 0:\n",
        "            break\n",
        "        else: \n",
        "            print('Debe ingresar un entero positivo, número no válido.')\n",
        "    except ValueError:\n",
        "        print('Debe ingresar un entero positivo.')\n",
        "\n",
        "def narcisistas(n):                 # es el numero limite  de numero\n",
        "    for i in range (0,n+1):\n",
        "        m=len(str(i))               # convierte i a un string vemos la longuitud de i\n",
        "        s= 0                        #iniciamos un valor en 0\n",
        "        for digitos in str(i):      #iteramos sobre los carecyeres\n",
        "            s += int(digitos)**m\n",
        "        if s==i:                    #entonces s es el numero narcisistas\n",
        "         print(i)   \n",
        "\n",
        "print(narcisistas(n))"
      ],
      "execution_count": null,
      "outputs": []
    }
  ]
}