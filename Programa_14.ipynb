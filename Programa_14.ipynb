{
  "nbformat": 4,
  "nbformat_minor": 0,
  "metadata": {
    "colab": {
      "name": "Programa 14.ipynb",
      "provenance": [],
      "authorship_tag": "ABX9TyNj/prrW/Gsla4YYE++1K+t",
      "include_colab_link": true
    },
    "kernelspec": {
      "name": "python3",
      "display_name": "Python 3"
    }
  },
  "cells": [
    {
      "cell_type": "markdown",
      "metadata": {
        "id": "view-in-github",
        "colab_type": "text"
      },
      "source": [
        "<a href=\"https://colab.research.google.com/github/Brayan56-mdz/Programacion_avanzada/blob/main/Programa_14.ipynb\" target=\"_parent\"><img src=\"https://colab.research.google.com/assets/colab-badge.svg\" alt=\"Open In Colab\"/></a>"
      ]
    },
    {
      "cell_type": "code",
      "metadata": {
        "id": "9UHV3eJANosx"
      },
      "source": [
        "#Programa 14 obtener una cantidad N de números pseudoaleatorios (donde N es un número entero, mayor a 0) \n",
        "#utilizando para ello el método/algoritmo de generación de números congruencial.\n",
        "while True:\n",
        "    try:\n",
        "        num = int(input('Ingrese un número entero positivo: '))\n",
        "        if num >= 0:\n",
        "            break\n",
        "        else: \n",
        "            print('Debe ingresar un entero positivo, número no válido.')\n",
        "    except ValueError:\n",
        "        print('Debe ingresar un entero positivo.')\n",
        "a=6\n",
        "b=0\n",
        "m=13\n",
        "for i in range(0,num):\n",
        "    xn=(a*num + b) % m\n",
        "    print(num/m)\n",
        "    xn<=num"
      ],
      "execution_count": null,
      "outputs": []
    }
  ]
}