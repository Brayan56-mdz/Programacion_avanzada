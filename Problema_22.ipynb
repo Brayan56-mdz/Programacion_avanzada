{
  "nbformat": 4,
  "nbformat_minor": 0,
  "metadata": {
    "colab": {
      "name": "Problema 22.ipynb",
      "provenance": [],
      "authorship_tag": "ABX9TyM3PNMilyJ7bQveTLihMyST",
      "include_colab_link": true
    },
    "kernelspec": {
      "name": "python3",
      "display_name": "Python 3"
    }
  },
  "cells": [
    {
      "cell_type": "markdown",
      "metadata": {
        "id": "view-in-github",
        "colab_type": "text"
      },
      "source": [
        "<a href=\"https://colab.research.google.com/github/Brayan56-mdz/Programacion_avanzada/blob/main/Problema_22.ipynb\" target=\"_parent\"><img src=\"https://colab.research.google.com/assets/colab-badge.svg\" alt=\"Open In Colab\"/></a>"
      ]
    },
    {
      "cell_type": "code",
      "metadata": {
        "id": "tSlB6q70owoV"
      },
      "source": [
        "#Problema 22 ingresar cualquier tipo de texto y que cuente la frecuencia de aparición de cada letra del alfabeto latino\n",
        "import re\n",
        "testo=input(\"Ingrese una frase: \")\n",
        "x1=re.findall(\"a\",testo)\n",
        "x2=re.findall(\"b\",testo)\n",
        "x3=re.findall(\"c\",testo)\n",
        "x4=re.findall(\"d\",testo)\n",
        "x5=re.findall(\"e\",testo)\n",
        "x6=re.findall(\"f\",testo)\n",
        "x7=re.findall(\"g\",testo)\n",
        "x8=re.findall(\"h\",testo)\n",
        "x9=re.findall(\"i\",testo)\n",
        "x10=re.findall(\"j\",testo)\n",
        "x11=re.findall(\"k\",testo)\n",
        "x12=re.findall(\"l\",testo)\n",
        "x13=re.findall(\"m\",testo)\n",
        "x14=re.findall(\"n\",testo)\n",
        "x15=re.findall(\"ñ\",testo)\n",
        "x16=re.findall(\"o\",testo)\n",
        "x17=re.findall(\"p\",testo)\n",
        "x18=re.findall(\"q\",testo)\n",
        "x19=re.findall(\"r\",testo)\n",
        "x20=re.findall(\"s\",testo)\n",
        "x21=re.findall(\"t\",testo)\n",
        "x22=re.findall(\"u\",testo)\n",
        "x23=re.findall(\"v\",testo)\n",
        "x24=re.findall(\"w\",testo)\n",
        "x25=re.findall(\"x\",testo)\n",
        "x26=re.findall(\"y\",testo)\n",
        "x27=re.findall(\"z\",testo)\n",
        "print(\"numero de frecuencias de una letra en una frase¡\")\n",
        "print(\"a= \",len(x1))\n",
        "print(\"b= \",len(x2))\n",
        "print(\"c= \",len(x3))\n",
        "print(\"d= \",len(x4))\n",
        "print(\"e= \",len(x5))\n",
        "print(\"f= \",len(x6))\n",
        "print(\"g= \",len(x7))\n",
        "print(\"h= \",len(x8))\n",
        "print(\"i= \",len(x9))\n",
        "print(\"j= \",len(x10))\n",
        "print(\"k= \",len(x11))\n",
        "print(\"l= \",len(x12))\n",
        "print(\"m= \",len(x13))\n",
        "print(\"n= \",len(x14))\n",
        "print(\"a= \",len(x15))\n",
        "print(\"o= \",len(x16))\n",
        "print(\"p= \",len(x17))\n",
        "print(\"q= \",len(x18))\n",
        "print(\"r= \",len(x19))\n",
        "print(\"s= \",len(x20))\n",
        "print(\"t= \",len(x21))\n",
        "print(\"u= \",len(x22))\n",
        "print(\"v= \",len(x23))\n",
        "print(\"w= \",len(x24))\n",
        "print(\"x= \",len(x25))\n",
        "print(\"y= \",len(x26))\n",
        "print(\"z= \",len(x27))\n"
      ],
      "execution_count": null,
      "outputs": []
    }
  ]
}