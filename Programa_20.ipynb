{
  "nbformat": 4,
  "nbformat_minor": 0,
  "metadata": {
    "colab": {
      "name": "Programa 20.ipynb",
      "provenance": [],
      "authorship_tag": "ABX9TyNZwETVJYg7i0biJYqI+WIa",
      "include_colab_link": true
    },
    "kernelspec": {
      "name": "python3",
      "display_name": "Python 3"
    }
  },
  "cells": [
    {
      "cell_type": "markdown",
      "metadata": {
        "id": "view-in-github",
        "colab_type": "text"
      },
      "source": [
        "<a href=\"https://colab.research.google.com/github/Brayan56-mdz/Programacion_avanzada/blob/main/Programa_20.ipynb\" target=\"_parent\"><img src=\"https://colab.research.google.com/assets/colab-badge.svg\" alt=\"Open In Colab\"/></a>"
      ]
    },
    {
      "cell_type": "code",
      "metadata": {
        "id": "E1QXFeLIl0Y2"
      },
      "source": [
        "#Programa 20 obtener los números primos inferiores a un número entero positivo N proporcionado por el usuario\n",
        "print(\"Da los números primos antes del número indicado\")\n",
        "while True:\n",
        "    try:\n",
        "        p=int(input(\"Ingrese un numero: \"))\n",
        "        break\n",
        "    except ValueError:\n",
        "        print(\"No es un valor valido \")\n",
        "if p<=10:\n",
        "    p2=1\n",
        "else:\n",
        "    p2=int(p/10)\n",
        "i=1\n",
        "j2=1\n",
        "p1=1\n",
        "nm=[]\n",
        "sn=[]\n",
        "for q in range(p):\n",
        "    nm.append(q+1)\n",
        "    \n",
        "for k in range(p):\n",
        "    sn.append(\"s\")\n",
        "    \n",
        "for i1 in range(p2):\n",
        "    \n",
        "    for j in range(p):\n",
        "        \n",
        "        m=i+j2+(2*(i*j2))\n",
        "        \n",
        "        for v in range(p):\n",
        "            if m==nm[v]:\n",
        "                sn[v]=\"n\"\n",
        "        if j2==p:\n",
        "            j2=0\n",
        "        j2+=1\n",
        "    i+=1\n",
        "for a in range(p):\n",
        "    if ord(sn[a])==115:\n",
        "        print(str((nm[a]*2)+1))\n"
      ],
      "execution_count": null,
      "outputs": []
    }
  ]
}