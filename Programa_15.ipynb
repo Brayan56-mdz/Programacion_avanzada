{
  "nbformat": 4,
  "nbformat_minor": 0,
  "metadata": {
    "colab": {
      "name": "Programa 15.ipynb",
      "provenance": [],
      "authorship_tag": "ABX9TyPPij659sYyukldLaZup+4k",
      "include_colab_link": true
    },
    "kernelspec": {
      "name": "python3",
      "display_name": "Python 3"
    }
  },
  "cells": [
    {
      "cell_type": "markdown",
      "metadata": {
        "id": "view-in-github",
        "colab_type": "text"
      },
      "source": [
        "<a href=\"https://colab.research.google.com/github/Brayan56-mdz/Programacion_avanzada/blob/main/Programa_15.ipynb\" target=\"_parent\"><img src=\"https://colab.research.google.com/assets/colab-badge.svg\" alt=\"Open In Colab\"/></a>"
      ]
    },
    {
      "cell_type": "code",
      "metadata": {
        "id": "tMFkEmKpSOsb"
      },
      "source": [
        "#Programa 15 obtenga el Máximo Común Divisor (MCD) y el mínimo común múltiplo de un par de números enteros positivos. \n",
        "while True:\n",
        "    try:\n",
        "        n1 = int(input('Ingrese un número entero positivo: '))\n",
        "        if n1 >= 0:\n",
        "            break\n",
        "        else: \n",
        "            print('Debe ingresar un entero positivo, número no válido.')\n",
        "    except ValueError:\n",
        "        print('Debe ingresar un entero positivo.')\n",
        "\n",
        "while True:\n",
        "    try:\n",
        "        n2 = int(input('Ingrese otro número: '))\n",
        "        if n2 >= 0:\n",
        "            break\n",
        "        else: \n",
        "            print('Debe ingresar un entero positivo, número no válido.')\n",
        "    except ValueError:\n",
        "        print('Debe ingresar un entero positivo.')\n",
        "\n",
        "def mcd(n1,n2):\n",
        "  while True:\n",
        "      resto=n1 % n2\n",
        "      if resto==0:\n",
        "          return n2\n",
        "      else:\n",
        "          n1=n2\n",
        "          n2=resto\n",
        "\n",
        "print(\"El maximo comun divisor de tus numersos \",n1, \" , \", n2,\"es \", mcd(n1,n2))          \n",
        "\n",
        "def mcm(n1,n2):\n",
        "     z=max(n1,n2)\n",
        "     while True:\n",
        "         if z % n1 ==0 and z % n2 ==0 :\n",
        "             return z\n",
        "         z += 1\n",
        "\n",
        "print(\"El minimo comun multiplo de  \",n1,\" y\",n2, \" es \",mcm(n1,n2))         \n",
        "          "
      ],
      "execution_count": null,
      "outputs": []
    }
  ]
}