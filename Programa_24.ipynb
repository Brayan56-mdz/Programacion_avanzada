{
  "nbformat": 4,
  "nbformat_minor": 0,
  "metadata": {
    "colab": {
      "name": "Programa 24.ipynb",
      "provenance": [],
      "authorship_tag": "ABX9TyNf43ubpYYYVttNaB+0D067",
      "include_colab_link": true
    },
    "kernelspec": {
      "name": "python3",
      "display_name": "Python 3"
    }
  },
  "cells": [
    {
      "cell_type": "markdown",
      "metadata": {
        "id": "view-in-github",
        "colab_type": "text"
      },
      "source": [
        "<a href=\"https://colab.research.google.com/github/Brayan56-mdz/Programacion_avanzada/blob/main/Programa_24.ipynb\" target=\"_parent\"><img src=\"https://colab.research.google.com/assets/colab-badge.svg\" alt=\"Open In Colab\"/></a>"
      ]
    },
    {
      "cell_type": "code",
      "metadata": {
        "id": "3bG6QGAVsDQj"
      },
      "source": [
        "#Programa 24 ingresar una palabra o frase y verificar si se trata de un palíndromo o no\n",
        "igual, aux = 0, 0\n",
        "texto = input(\"Ingrese la palabra o frase que desea evaluar: \")\n",
        "for ind in reversed(range(0, len(texto))):#ciclo for en reversa\n",
        "  if texto[ind].lower() == texto[aux].lower():\n",
        "    igual += 1\n",
        "  aux += 1\n",
        "if len(texto) == igual:\n",
        "  print(\"El texto es palindromo\")\n",
        "else:\n",
        "  print(\"El texto no es palindromo\")\n"
      ],
      "execution_count": null,
      "outputs": []
    }
  ]
}