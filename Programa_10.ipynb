{
  "nbformat": 4,
  "nbformat_minor": 0,
  "metadata": {
    "colab": {
      "name": "Programa 10.ipynb",
      "provenance": [],
      "toc_visible": true,
      "authorship_tag": "ABX9TyOBMDCylFQ2sjqDEGpCXQ6I",
      "include_colab_link": true
    },
    "kernelspec": {
      "name": "python3",
      "display_name": "Python 3"
    }
  },
  "cells": [
    {
      "cell_type": "markdown",
      "metadata": {
        "id": "view-in-github",
        "colab_type": "text"
      },
      "source": [
        "<a href=\"https://colab.research.google.com/github/Brayan56-mdz/Programacion_avanzada/blob/main/Programa_10.ipynb\" target=\"_parent\"><img src=\"https://colab.research.google.com/assets/colab-badge.svg\" alt=\"Open In Colab\"/></a>"
      ]
    },
    {
      "cell_type": "code",
      "metadata": {
        "id": "kpL1p0WB55cZ"
      },
      "source": [
        "#Programa 10 Calcula el doble factorial (n!!) de un número entero positivo \n",
        "while True:\n",
        "    try:\n",
        "        num = int(input('Ingrese un número entero positivo: '))\n",
        "        if num >= 0:\n",
        "            break\n",
        "        else: \n",
        "            print('Debe ingresar un entero positivo, número no válido.')\n",
        "    except ValueError:\n",
        "        print('Debe ingresar un entero positivo.')\n",
        "    num2= input()\n",
        "    num= int(num2)\n",
        "\n",
        "n2=n/2\n",
        "#n3= n+1 \n",
        "#n4= n +1 / 2\n",
        "def factorial(n2):\n",
        "    if n2 ==0 :\n",
        "       return 1\n",
        "    else:\n",
        "       return n2 * factorial(n2-1)\n",
        "    \n",
        "#print(\"el factorial de : \",str(n), \" es \",factorial(n)  ) \n",
        "if n % 2 == 0:\n",
        "    df= (2 **n2) * (factorial(n2))\n",
        "    print(\"el  doble factorial de : \",str(n), \" es \",df  )\n",
        "\n",
        "else:\n",
        "  n2= n +1\n",
        "  a=factorial(n2)\n",
        "  n2= (n+1 )/ 2\n",
        "  b=factorial(n2)\n",
        "  c= (n + 1) /2\n",
        "  df2= (a)/ ((2 ** (c))* (b)) \n",
        "  print(\"El doble factorial de : \",str(n),\" es \",df2 )"
      ],
      "execution_count": null,
      "outputs": []
    }
  ]
}