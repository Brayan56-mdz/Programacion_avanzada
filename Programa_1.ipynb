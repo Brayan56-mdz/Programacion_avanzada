{
  "nbformat": 4,
  "nbformat_minor": 0,
  "metadata": {
    "colab": {
      "name": "Programa 1 ",
      "provenance": [],
      "collapsed_sections": [],
      "toc_visible": true,
      "include_colab_link": true
    },
    "kernelspec": {
      "display_name": "Python 3",
      "name": "python3"
    }
  },
  "cells": [
    {
      "cell_type": "markdown",
      "metadata": {
        "id": "view-in-github",
        "colab_type": "text"
      },
      "source": [
        "<a href=\"https://colab.research.google.com/github/Brayan56-mdz/Programacion_avanzada/blob/main/Programa_1.ipynb\" target=\"_parent\"><img src=\"https://colab.research.google.com/assets/colab-badge.svg\" alt=\"Open In Colab\"/></a>"
      ]
    },
    {
      "cell_type": "code",
      "metadata": {
        "id": "0xzAifCd_SHr",
        "outputId": "4b72ee77-fe38-4278-9f96-7c3995bee13a",
        "colab": {
          "base_uri": "https://localhost:8080/",
          "height": 153
        }
      },
      "source": [
        "#Programa 1 numeros pares e impares\n",
        "#restricción solo permite ingresar un número entero y positivo\n",
        "while True:\n",
        "    try:\n",
        "        num = int(input('Ingrese un número entero positivo: '))\n",
        "        if num >= 0:\n",
        "            break\n",
        "        else: \n",
        "            print('Debe ingresar un entero positivo, número no válido.')\n",
        "    except ValueError:\n",
        "        print('Debe ingresar un entero positivo.')\n",
        "\n",
        "if num == 0:\n",
        "    print (\"Este número es par.\")\n",
        "elif num%2 == 0:\n",
        "    print (\"Este numero es par\")\n",
        "else:\n",
        "    print (\"Este numero es impar\")\n",
        "\n"
      ],
      "execution_count": null,
      "outputs": [
        {
          "output_type": "stream",
          "text": [
            "Ingrese un número entero positivo: -15\n",
            "Debe ingresar un entero positivo, número no válido.\n",
            "Ingrese un número entero positivo: 2.2\n",
            "Debe ingresar un entero positivo.\n",
            "Ingrese un número entero positivo: -45\n",
            "Debe ingresar un entero positivo, número no válido.\n",
            "Ingrese un número entero positivo: 45\n",
            "Este numero es impar\n"
          ],
          "name": "stdout"
        }
      ]
    },
    {
      "cell_type": "code",
      "metadata": {
        "id": "_mhOdqj7Fe0C"
      },
      "source": [
        ""
      ],
      "execution_count": null,
      "outputs": []
    }
  ]
}