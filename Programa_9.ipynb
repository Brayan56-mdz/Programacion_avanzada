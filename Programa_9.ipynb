{
  "nbformat": 4,
  "nbformat_minor": 0,
  "metadata": {
    "colab": {
      "name": "Programa 9.ipynb",
      "provenance": [],
      "authorship_tag": "ABX9TyOxX4Zl3csd4zCdS+Ctazkq",
      "include_colab_link": true
    },
    "kernelspec": {
      "name": "python3",
      "display_name": "Python 3"
    }
  },
  "cells": [
    {
      "cell_type": "markdown",
      "metadata": {
        "id": "view-in-github",
        "colab_type": "text"
      },
      "source": [
        "<a href=\"https://colab.research.google.com/github/Brayan56-mdz/Programacion_avanzada/blob/main/Programa_9.ipynb\" target=\"_parent\"><img src=\"https://colab.research.google.com/assets/colab-badge.svg\" alt=\"Open In Colab\"/></a>"
      ]
    },
    {
      "cell_type": "code",
      "metadata": {
        "id": "SiqCHw2zvJs6"
      },
      "source": [
        "#Programa 9 Sumar los dígitos de un número entero positivo ingresado por el usuario\n",
        "while True:\n",
        "    try:\n",
        "        num = int(input('Ingrese un número entero positivo: '))\n",
        "        if num >= 0:\n",
        "            break\n",
        "        else: \n",
        "            print('Debe ingresar un entero positivo, número no válido.')\n",
        "    except ValueError:\n",
        "        print('Debe ingresar un entero positivo.')\n",
        "\n",
        "numero = num\n",
        "numeroStr = str(numero)\n",
        "resultado = ''\n",
        "suma = 0\n",
        "for pos in range(len(numeroStr)):\n",
        "    suma += int(numeroStr[pos])\n",
        "    if pos < (len(numeroStr)-1):\n",
        "        resultado += f'{numeroStr[pos]} + '\n",
        "    else:\n",
        "        resultado += numeroStr[pos]\n",
        "\n",
        "\n",
        "print(\"La suma es: \"f'{resultado} = {suma}')\n",
        "\n"
      ],
      "execution_count": null,
      "outputs": []
    }
  ]
}