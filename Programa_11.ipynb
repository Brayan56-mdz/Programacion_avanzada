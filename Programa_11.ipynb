{
  "nbformat": 4,
  "nbformat_minor": 0,
  "metadata": {
    "colab": {
      "name": "Programa 11.ipynb",
      "provenance": [],
      "authorship_tag": "ABX9TyNr1Vi+iNC2EqNryHJVmB+p",
      "include_colab_link": true
    },
    "kernelspec": {
      "name": "python3",
      "display_name": "Python 3"
    }
  },
  "cells": [
    {
      "cell_type": "markdown",
      "metadata": {
        "id": "view-in-github",
        "colab_type": "text"
      },
      "source": [
        "<a href=\"https://colab.research.google.com/github/Brayan56-mdz/Programacion_avanzada/blob/main/Programa_11.ipynb\" target=\"_parent\"><img src=\"https://colab.research.google.com/assets/colab-badge.svg\" alt=\"Open In Colab\"/></a>"
      ]
    },
    {
      "cell_type": "code",
      "metadata": {
        "id": "-pgj3BN3DERQ"
      },
      "source": [
        " #Programa 11 Calcular el dígito de control del código de barras EAN-8\n",
        "#genera un lista para insertar numeros 8 dijitos\n",
        "\n",
        "milistaNum=[]\n",
        "nud=8\n",
        "i=1\n",
        "milis2=[] #numero pares\n",
        "milis3=[] #numero impares\n",
        "while nud > 0 :\n",
        "    numero=int(input(\"dame un numero: \"))\n",
        "    milistaNum.append(numero)\n",
        "    i= i+1\n",
        "    nud=nud-1\n",
        "    break\n",
        "for k in milistaNum:\n",
        "     if k % 2 == 0:\n",
        "         milis2.append(k)\n",
        "     else:\n",
        "          milis3.append(k)\n",
        "\n",
        "def sumar(milis2):             #suma de numeros pares\n",
        "    suma=0\n",
        "    for elemento in milis2:\n",
        "        suma= elemento + suma \n",
        "    return suma\n",
        "\n",
        "def sumar1(milis3):            #suma de numero impares\n",
        "    suma1=0\n",
        "    for elemento1 in milis3:\n",
        "        suma1= elemento1 + suma1 \n",
        "    return suma1\n",
        "\n",
        "valorSP= 3*(sumar(milis2))\n",
        "valorSI= sumar1(milis3) \n",
        "#suma los valores anteriores\n",
        "St= valorSP + valorSI \n",
        "#RESIDUO de la suma anterior\n",
        "RE=St % 10\n",
        "#RESTA -10 EL RESUIDO\n",
        "r1=10 -RE\n",
        "print(\"tu codigo es: \", milistaNum , r1)"
      ],
      "execution_count": null,
      "outputs": []
    }
  ]
}