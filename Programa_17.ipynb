{
  "nbformat": 4,
  "nbformat_minor": 0,
  "metadata": {
    "colab": {
      "name": "Programa 17.ipynb",
      "provenance": [],
      "authorship_tag": "ABX9TyOsmhhtOs0KIz2ExMWzWtK5",
      "include_colab_link": true
    },
    "kernelspec": {
      "name": "python3",
      "display_name": "Python 3"
    }
  },
  "cells": [
    {
      "cell_type": "markdown",
      "metadata": {
        "id": "view-in-github",
        "colab_type": "text"
      },
      "source": [
        "<a href=\"https://colab.research.google.com/github/Brayan56-mdz/Programacion_avanzada/blob/main/Programa_17.ipynb\" target=\"_parent\"><img src=\"https://colab.research.google.com/assets/colab-badge.svg\" alt=\"Open In Colab\"/></a>"
      ]
    },
    {
      "cell_type": "code",
      "metadata": {
        "id": "-vO1Fe-rYDBt"
      },
      "source": [
        "#Programa 17 recibir un número entero positivo N, indique si se trata de un permita obtener la lista de número de Keith\n",
        "list=[]\n",
        "\n",
        "for i in range (0,3):\n",
        "    num=int(input(\"ingrese un numero: \"))\n",
        "    list.append(num)\n",
        "      \n",
        "def sumalista(list):\n",
        "  lasuma=0\n",
        "  for i in list:\n",
        "   lasuma=lasuma+i\n",
        "  return lasuma\n",
        "print(sumalista(list))"
      ],
      "execution_count": null,
      "outputs": []
    }
  ]
}