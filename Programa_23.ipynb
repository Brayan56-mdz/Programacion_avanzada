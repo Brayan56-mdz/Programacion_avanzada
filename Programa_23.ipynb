{
  "nbformat": 4,
  "nbformat_minor": 0,
  "metadata": {
    "colab": {
      "name": "Programa 23.ipynb",
      "provenance": [],
      "authorship_tag": "ABX9TyNuo47eVRdu/1HxYwi883AO",
      "include_colab_link": true
    },
    "kernelspec": {
      "name": "python3",
      "display_name": "Python 3"
    }
  },
  "cells": [
    {
      "cell_type": "markdown",
      "metadata": {
        "id": "view-in-github",
        "colab_type": "text"
      },
      "source": [
        "<a href=\"https://colab.research.google.com/github/Brayan56-mdz/Programacion_avanzada/blob/main/Programa_23.ipynb\" target=\"_parent\"><img src=\"https://colab.research.google.com/assets/colab-badge.svg\" alt=\"Open In Colab\"/></a>"
      ]
    },
    {
      "cell_type": "code",
      "metadata": {
        "id": "7NMrADzzpvGM"
      },
      "source": [
        "#Programa 23 ingresar cualquier tipo de texto y que lo encripte utilizando para ello la Encriptación o Cifrado César\n",
        "#por lo que se debe también solicitar cuántas posiciones se debe mover en el alfabeto para realizar la encriptación\n",
        "print(\"Cifrado César\")\n",
        "texto_original =  input(\"Ingrese el Texto a cifrar: \")\n",
        "longitud = len(texto_original)\n",
        "\n",
        "fin = \"\"\n",
        "condicion = \"n\"\n",
        "texto_cifrado = \"\"\n",
        "while condicion: \n",
        "  num =  input(\"Ingrese el número de posiciones: \")\n",
        "  try:                                                        #El try hace la validación de si el número es entero\n",
        "    numero = int(num)\n",
        "    if(numero <= 0): \n",
        "        print(\"Por favor ingresa un número mayor que CERO\") \n",
        "    else:                                                     #print(\"\\nTexto Original: \"+texto_original)\n",
        "                                                              #print(\"Longitud: \"+str(longitud))\n",
        "        i=1\n",
        "        \n",
        "        for i in range(longitud): \n",
        "            cifrado = (ord(texto_original[i]) +numero)%255    #Convertimos el texto cifrado a número y le sumamos n, le sacamos el módulo para que siempre este dentro de código asccii\n",
        "            caracter_cifrado = chr(cifrado)                   #Convertimos el número a caracter nuevamete\n",
        "            texto_cifrado = texto_cifrado + caracter_cifrado\n",
        "        \n",
        "        print(\"Texto cifrado: \"+texto_cifrado)\n",
        "        break\n",
        "  except ValueError:\n",
        "    print(\"Lo que escribiste NO es un número entero, intenta nuevamente\")\n",
        "\n"
      ],
      "execution_count": null,
      "outputs": []
    }
  ]
}