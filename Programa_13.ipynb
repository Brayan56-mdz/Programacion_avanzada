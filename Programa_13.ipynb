{
  "nbformat": 4,
  "nbformat_minor": 0,
  "metadata": {
    "colab": {
      "name": "Programa 13.ipynb",
      "provenance": [],
      "authorship_tag": "ABX9TyP+t8Mba/RgEI9MB5XebBaq",
      "include_colab_link": true
    },
    "kernelspec": {
      "name": "python3",
      "display_name": "Python 3"
    }
  },
  "cells": [
    {
      "cell_type": "markdown",
      "metadata": {
        "id": "view-in-github",
        "colab_type": "text"
      },
      "source": [
        "<a href=\"https://colab.research.google.com/github/Brayan56-mdz/Programacion_avanzada/blob/main/Programa_13.ipynb\" target=\"_parent\"><img src=\"https://colab.research.google.com/assets/colab-badge.svg\" alt=\"Open In Colab\"/></a>"
      ]
    },
    {
      "cell_type": "code",
      "metadata": {
        "id": "yXR3A9jiK2Kd"
      },
      "source": [
        "#Programa 13 Imprimir los N números de la Serie de Padovan \n",
        "while True:\n",
        "    try:\n",
        "        num = int(input('Ingrese un número entero positivo: '))\n",
        "        if num >= 0:\n",
        "            break\n",
        "        else: \n",
        "            print('Debe ingresar un entero positivo, número no válido.')\n",
        "    except ValueError:\n",
        "        print('Debe ingresar un entero positivo.')\n",
        "\n",
        "    num2= input()\n",
        "    num= int(num2)\n",
        "# Procedimiento\n",
        "a=1\n",
        "a1=1 #valor inicial\n",
        "b=1\n",
        "b1=1 #valor inicial\n",
        "c=1\n",
        "c1=1#valor inicial\n",
        "i=3\n",
        "\n",
        "print(a1)\n",
        "print(b1)\n",
        "print(c1)\n",
        "for i in range(num):#contador asta n\n",
        "  #reasignamos valores  \n",
        " d=a+b\n",
        " a=b\n",
        " b=c\n",
        " c=d\n",
        " i=i+1 #sumamos hasta llegar a n\n",
        " print(d) "
      ],
      "execution_count": null,
      "outputs": []
    }
  ]
}