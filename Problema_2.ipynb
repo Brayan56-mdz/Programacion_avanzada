{
  "nbformat": 4,
  "nbformat_minor": 0,
  "metadata": {
    "colab": {
      "name": "Problema 2.ipynb",
      "provenance": [],
      "authorship_tag": "ABX9TyNIZUflOYEu46MNfcXHV/n0",
      "include_colab_link": true
    },
    "kernelspec": {
      "name": "python3",
      "display_name": "Python 3"
    }
  },
  "cells": [
    {
      "cell_type": "markdown",
      "metadata": {
        "id": "view-in-github",
        "colab_type": "text"
      },
      "source": [
        "<a href=\"https://colab.research.google.com/github/Brayan56-mdz/Programacion_avanzada/blob/main/Problema_2.ipynb\" target=\"_parent\"><img src=\"https://colab.research.google.com/assets/colab-badge.svg\" alt=\"Open In Colab\"/></a>"
      ]
    },
    {
      "cell_type": "code",
      "metadata": {
        "id": "hZuaWSmCXSrz",
        "outputId": "396c1b64-83ff-4c40-c375-9dd5e0be495b",
        "colab": {
          "base_uri": "https://localhost:8080/",
          "height": 221
        }
      },
      "source": [
        "while True:\n",
        "    try:\n",
        "        num = int(input('Ingrese un número entero positivo: '))\n",
        "        if num >= 0:\n",
        "            break\n",
        "        else: \n",
        "            print('Debe ingresar un entero positivo, número no válido.')\n",
        "    except ValueError:\n",
        "        print('Debe ingresar un entero positivo.')\n",
        "\n",
        "for i in range(0,11):\n",
        "    resultado=i*num\n",
        "    print(('%d x %d = %d')%(num,i,resultado))"
      ],
      "execution_count": 34,
      "outputs": [
        {
          "output_type": "stream",
          "text": [
            "Ingrese un número entero positivo: 12\n",
            "12 x 0 = 0\n",
            "12 x 1 = 12\n",
            "12 x 2 = 24\n",
            "12 x 3 = 36\n",
            "12 x 4 = 48\n",
            "12 x 5 = 60\n",
            "12 x 6 = 72\n",
            "12 x 7 = 84\n",
            "12 x 8 = 96\n",
            "12 x 9 = 108\n",
            "12 x 10 = 120\n"
          ],
          "name": "stdout"
        }
      ]
    }
  ]
}