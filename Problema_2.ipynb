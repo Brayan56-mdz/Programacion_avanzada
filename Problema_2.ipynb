{
  "nbformat": 4,
  "nbformat_minor": 0,
  "metadata": {
    "colab": {
      "name": "Problema 2.ipynb",
      "provenance": [],
      "authorship_tag": "ABX9TyPcWc0OqW+zLA2lofGNMNSB",
      "include_colab_link": true
    },
    "kernelspec": {
      "name": "python3",
      "display_name": "Python 3"
    }
  },
  "cells": [
    {
      "cell_type": "markdown",
      "metadata": {
        "id": "view-in-github",
        "colab_type": "text"
      },
      "source": [
        "<a href=\"https://colab.research.google.com/github/Brayan56-mdz/Programacion_avanzada/blob/main/Problema_2.ipynb\" target=\"_parent\"><img src=\"https://colab.research.google.com/assets/colab-badge.svg\" alt=\"Open In Colab\"/></a>"
      ]
    },
    {
      "cell_type": "code",
      "metadata": {
        "id": "hZuaWSmCXSrz"
      },
      "source": [
        "#Programa 2  tabla de multiplicar de un número entero positivo N \n",
        "while True:\n",
        "    try:\n",
        "        num = int(input('Ingrese un número entero positivo: '))\n",
        "        if num >= 0:\n",
        "            break\n",
        "        else: \n",
        "            print('Debe ingresar un entero positivo, número no válido.')\n",
        "    except ValueError:\n",
        "        print('Debe ingresar un entero positivo.')\n",
        "\n",
        "for i in range(0,11):\n",
        "    resultado=i*num\n",
        "    print(('%d x %d = %d')%(num,i,resultado))"
      ],
      "execution_count": null,
      "outputs": []
    }
  ]
}