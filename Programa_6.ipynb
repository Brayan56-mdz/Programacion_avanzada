{
  "nbformat": 4,
  "nbformat_minor": 0,
  "metadata": {
    "colab": {
      "name": "Programa 6.ipynb",
      "provenance": [],
      "authorship_tag": "ABX9TyOoIhOfffdUWdKbMmhgQuNE",
      "include_colab_link": true
    },
    "kernelspec": {
      "name": "python3",
      "display_name": "Python 3"
    }
  },
  "cells": [
    {
      "cell_type": "markdown",
      "metadata": {
        "id": "view-in-github",
        "colab_type": "text"
      },
      "source": [
        "<a href=\"https://colab.research.google.com/github/Brayan56-mdz/Programacion_avanzada/blob/main/Programa_6.ipynb\" target=\"_parent\"><img src=\"https://colab.research.google.com/assets/colab-badge.svg\" alt=\"Open In Colab\"/></a>"
      ]
    },
    {
      "cell_type": "code",
      "metadata": {
        "id": "xe0H0rSNmhDW",
        "outputId": "c378d21d-1b21-4802-99b9-043e5e7161d6",
        "colab": {
          "base_uri": "https://localhost:8080/",
          "height": 51
        }
      },
      "source": [
        "#Programa 6 Descomposición de numeros\n",
        "while True:\n",
        "    try:\n",
        "        num = int(input('Ingrese un número entero positivo: '))\n",
        "        if num >= 0:\n",
        "            break\n",
        "        else: \n",
        "            print('Debe ingresar un entero positivo, número no válido.')\n",
        "    except ValueError:\n",
        "        print('Debe ingresar un entero positivo.')\n",
        "if num > 1000: \n",
        " mile=num // 1000 * 1000\n",
        " ce= num % 1000\n",
        " cent= ce // 100 *100\n",
        " de= num % 100\n",
        " dece= de // 10 * 10\n",
        " un= de % 10\n",
        " uni= un\n",
        " print( mile,\" + \",cent,\" + \", dece, \"  + \", uni,\" = \",num)"
      ],
      "execution_count": 6,
      "outputs": [
        {
          "output_type": "stream",
          "text": [
            "Ingrese un número entero positivo: 1234\n",
            "1000  +  200  +  30   +  4  =  1234\n"
          ],
          "name": "stdout"
        }
      ]
    }
  ]
}