{
  "nbformat": 4,
  "nbformat_minor": 0,
  "metadata": {
    "colab": {
      "name": "Programa 7.ipynb",
      "provenance": [],
      "authorship_tag": "ABX9TyMh7iZSj7pj4MtHFTyaHex4",
      "include_colab_link": true
    },
    "kernelspec": {
      "name": "python3",
      "display_name": "Python 3"
    }
  },
  "cells": [
    {
      "cell_type": "markdown",
      "metadata": {
        "id": "view-in-github",
        "colab_type": "text"
      },
      "source": [
        "<a href=\"https://colab.research.google.com/github/Brayan56-mdz/Programacion_avanzada/blob/main/Programa_7.ipynb\" target=\"_parent\"><img src=\"https://colab.research.google.com/assets/colab-badge.svg\" alt=\"Open In Colab\"/></a>"
      ]
    },
    {
      "cell_type": "code",
      "metadata": {
        "id": "iBKLSXQIqnSG"
      },
      "source": [
        "#Programa 7 Suma y multiplicación de dos numeros enteros positivos\n",
        "x = [0,0] #variable, que recibe dos numeros\n",
        "a=0\n",
        "print(\"Calculadora de suma y producto de numero en un intervalo \\n\")\n",
        "while True:                    #verificador de si es un numero\n",
        "\twhile True:\n",
        "\t\ttry:\n",
        "\t\t\tif a==0: n=int(input(\"Ingrese un numero entero y positivo:\"))\n",
        "\t\t\telse: n=int(input(\"Ingrese otro numero mayor al anterior:\"))\n",
        "\t\t\tbreak\n",
        "\t\texcept ValueError:\n",
        "\t\t\tprint('Debe ingresar un número entero positivo.')\n",
        "\tif n>0:\n",
        "\t\tif n>x[0]:\n",
        "\t\t\tx[a] = n\n",
        "\t\t\ta=a+1\n",
        "\t\t\tif a==2: break\n",
        "\t\telse:\n",
        "\t\t\tprint(\"Debe ingresar un número entero y positivo mayor al anterior ingresado\")\n",
        "\telse:\n",
        "\t\tprint(\"Debe ingresar un número entero y positivo\")\n",
        "print(\"Intervalo de numeros: [\",x[0],\",\",x[1],\"]\",end=\"\")\n",
        "print(\"\\n\")\n",
        "for y in range(x[0],1+x[1]):      #contador de los numeros dentro del intervalo\n",
        "\tfor z in range(x[0],1+x[1]):\n",
        "\t\tprint(y,\"+\",z,\"=\",y+z,end=\"\")\n",
        "\t\tprint(\"\t&&\t\",end=\"\")\n",
        "\t\tprint(y,\"*\",z,\"=\",y*z,end=\"\")\n",
        "\t\tprint(\"\\n\") "
      ],
      "execution_count": null,
      "outputs": []
    }
  ]
}