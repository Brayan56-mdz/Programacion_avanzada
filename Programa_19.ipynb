{
  "nbformat": 4,
  "nbformat_minor": 0,
  "metadata": {
    "colab": {
      "name": "Programa 19.ipynb",
      "provenance": [],
      "authorship_tag": "ABX9TyMFdfH//Pzhc5BTpmarE0UX",
      "include_colab_link": true
    },
    "kernelspec": {
      "name": "python3",
      "display_name": "Python 3"
    }
  },
  "cells": [
    {
      "cell_type": "markdown",
      "metadata": {
        "id": "view-in-github",
        "colab_type": "text"
      },
      "source": [
        "<a href=\"https://colab.research.google.com/github/Brayan56-mdz/Programacion_avanzada/blob/main/Programa_19.ipynb\" target=\"_parent\"><img src=\"https://colab.research.google.com/assets/colab-badge.svg\" alt=\"Open In Colab\"/></a>"
      ]
    },
    {
      "cell_type": "code",
      "metadata": {
        "id": "Zttns1FllFu5"
      },
      "source": [
        "#Programa 19 cálculo del valor de π/4 por medio de una fracción continua\n",
        "print(\"Aproximación de π/4 por medio de fracción continua\")\n",
        "while True:\n",
        "    try:\n",
        "        num=int(input(\"Ingrese hasta que valor quiere hacer la fracción continua: \"))\n",
        "        break\n",
        "    except:\n",
        "        print(\"Intente de nuevo\")\n",
        "    if num>0:\n",
        "        break\n",
        "su=num+1\n",
        "for i in range(num,0,-1):\n",
        "    valor=(2*i-1)+(i/su)\n",
        "    su=valor\n",
        "valor=(1/valor)\n",
        "print(f\"\\nLa aproximacion es: \", valor)\n"
      ],
      "execution_count": null,
      "outputs": []
    }
  ]
}